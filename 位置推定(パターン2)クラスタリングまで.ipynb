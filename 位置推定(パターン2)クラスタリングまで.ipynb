{
 "cells": [
  {
   "cell_type": "markdown",
   "metadata": {},
   "source": [
    "### パターン２の位置情報を予測する\n",
    "<img src=\"./RSSI取得実験図/pattern2.png\" alt=\"パターン2\">"
   ]
  },
  {
   "cell_type": "markdown",
   "metadata": {},
   "source": [
    "##### パターン２では発信機の場所は常に固定であるため受信したデータから発信機の番号を予測することで位置情報の予測とする。"
   ]
  },
  {
   "cell_type": "code",
   "execution_count": 1,
   "metadata": {},
   "outputs": [],
   "source": [
    "# 必要なライブラリの読み込み\n",
    "import pandas as pd\n",
    "import numpy as np\n",
    "import matplotlib.pyplot as plt\n",
    "%matplotlib inline\n",
    "\n",
    "plt.rcParams['font.family'] = 'IPAPGothic' #全体のフォントを設定\n",
    "plt.rcParams[\"figure.figsize\"] = [20, 12] # グラフのサイズを指定\n",
    "plt.rcParams['font.size'] = 20 #フォントサイズを設定 default : 12\n",
    "plt.rcParams['xtick.labelsize'] = 15 # 横軸のフォントサイズ\n",
    "plt.rcParams['ytick.labelsize'] = 15 # 縦軸のフォントサイズ"
   ]
  },
  {
   "cell_type": "code",
   "execution_count": 2,
   "metadata": {
    "collapsed": true
   },
   "outputs": [],
   "source": [
    "# データセット読み込み (pattern2 = p2)\n",
    "p2 = pd.read_csv(\"./取得データセット/pattern2.csv\")\n",
    "p2.columns = [\"UUIDs\",\"Major\",\"Minor\",\"Accuracy\",\"Proximity\",\"TxPower\",\"RSSI\",\"device_name\",\"timestamp\"]"
   ]
  },
  {
   "cell_type": "code",
   "execution_count": 3,
   "metadata": {
    "scrolled": true
   },
   "outputs": [
    {
     "data": {
      "text/html": [
       "<div>\n",
       "<style>\n",
       "    .dataframe thead tr:only-child th {\n",
       "        text-align: right;\n",
       "    }\n",
       "\n",
       "    .dataframe thead th {\n",
       "        text-align: left;\n",
       "    }\n",
       "\n",
       "    .dataframe tbody tr th {\n",
       "        vertical-align: top;\n",
       "    }\n",
       "</style>\n",
       "<table border=\"1\" class=\"dataframe\">\n",
       "  <thead>\n",
       "    <tr style=\"text-align: right;\">\n",
       "      <th></th>\n",
       "      <th>UUIDs</th>\n",
       "      <th>Major</th>\n",
       "      <th>Minor</th>\n",
       "      <th>Accuracy</th>\n",
       "      <th>Proximity</th>\n",
       "      <th>TxPower</th>\n",
       "      <th>RSSI</th>\n",
       "      <th>device_name</th>\n",
       "      <th>timestamp</th>\n",
       "    </tr>\n",
       "  </thead>\n",
       "  <tbody>\n",
       "    <tr>\n",
       "      <th>0</th>\n",
       "      <td>10000000aaaa41441111110000000000</td>\n",
       "      <td>2</td>\n",
       "      <td>38</td>\n",
       "      <td>1.210637</td>\n",
       "      <td>near</td>\n",
       "      <td>-78</td>\n",
       "      <td>-82</td>\n",
       "      <td>rasp2</td>\n",
       "      <td>2017/10/03 15:39:27</td>\n",
       "    </tr>\n",
       "    <tr>\n",
       "      <th>1</th>\n",
       "      <td>40000000aaaa41441111110000000000</td>\n",
       "      <td>2</td>\n",
       "      <td>35</td>\n",
       "      <td>1.774360</td>\n",
       "      <td>near</td>\n",
       "      <td>-78</td>\n",
       "      <td>-90</td>\n",
       "      <td>rasp2</td>\n",
       "      <td>2017/10/03 15:39:27</td>\n",
       "    </tr>\n",
       "    <tr>\n",
       "      <th>2</th>\n",
       "      <td>20000000aaaa41441111110000000000</td>\n",
       "      <td>2</td>\n",
       "      <td>40</td>\n",
       "      <td>1.397251</td>\n",
       "      <td>near</td>\n",
       "      <td>-78</td>\n",
       "      <td>-85</td>\n",
       "      <td>rasp2</td>\n",
       "      <td>2017/10/03 15:39:27</td>\n",
       "    </tr>\n",
       "    <tr>\n",
       "      <th>3</th>\n",
       "      <td>10000000aaaa41441111110000000000</td>\n",
       "      <td>2</td>\n",
       "      <td>38</td>\n",
       "      <td>1.465642</td>\n",
       "      <td>near</td>\n",
       "      <td>-78</td>\n",
       "      <td>-86</td>\n",
       "      <td>rasp2</td>\n",
       "      <td>2017/10/03 15:39:27</td>\n",
       "    </tr>\n",
       "    <tr>\n",
       "      <th>4</th>\n",
       "      <td>10000000aaaa41441111110000000000</td>\n",
       "      <td>2</td>\n",
       "      <td>38</td>\n",
       "      <td>1.210637</td>\n",
       "      <td>near</td>\n",
       "      <td>-78</td>\n",
       "      <td>-82</td>\n",
       "      <td>rasp2</td>\n",
       "      <td>2017/10/03 15:39:27</td>\n",
       "    </tr>\n",
       "  </tbody>\n",
       "</table>\n",
       "</div>"
      ],
      "text/plain": [
       "                              UUIDs  Major  Minor  Accuracy Proximity  \\\n",
       "0  10000000aaaa41441111110000000000      2     38  1.210637      near   \n",
       "1  40000000aaaa41441111110000000000      2     35  1.774360      near   \n",
       "2  20000000aaaa41441111110000000000      2     40  1.397251      near   \n",
       "3  10000000aaaa41441111110000000000      2     38  1.465642      near   \n",
       "4  10000000aaaa41441111110000000000      2     38  1.210637      near   \n",
       "\n",
       "   TxPower  RSSI device_name            timestamp  \n",
       "0      -78   -82       rasp2  2017/10/03 15:39:27  \n",
       "1      -78   -90       rasp2  2017/10/03 15:39:27  \n",
       "2      -78   -85       rasp2  2017/10/03 15:39:27  \n",
       "3      -78   -86       rasp2  2017/10/03 15:39:27  \n",
       "4      -78   -82       rasp2  2017/10/03 15:39:27  "
      ]
     },
     "execution_count": 3,
     "metadata": {},
     "output_type": "execute_result"
    }
   ],
   "source": [
    "df = p2\n",
    "# 生データ\n",
    "df.head()"
   ]
  },
  {
   "cell_type": "markdown",
   "metadata": {},
   "source": [
    "#### 各ラベルの情報：  \n",
    "UUIDs,Major,Minor : 発信機の特定に使われる  \n",
    "Accuracy : 推定距離のばらつきを示す  \n",
    "Proximity : 1M地点でビーコンが発する信号の強さ  \n",
    "RSSI : 電波強度  \n",
    "device_name : 受信機名  \n",
    "timestamp : 受信時の時間を記録"
   ]
  },
  {
   "cell_type": "markdown",
   "metadata": {},
   "source": [
    "### 発信機情報とRSSIを用いて位置情報推定を行う"
   ]
  },
  {
   "cell_type": "markdown",
   "metadata": {},
   "source": [
    "##### 前処理 :"
   ]
  },
  {
   "cell_type": "code",
   "execution_count": 4,
   "metadata": {
    "collapsed": true
   },
   "outputs": [],
   "source": [
    "#　オブジェクト型の目的変数を数値情報に変換\n",
    "\n",
    "# UUIDsを変換\n",
    "import sklearn.preprocessing as sp\n",
    "le = sp.LabelEncoder()\n",
    "le.fit(df[df.columns[0]].unique())\n",
    "df[\"locate\"] = le.transform(df[df.columns[0]]) + 1\n",
    "\n",
    "# timestampを変換\n",
    "le = sp.LabelEncoder()\n",
    "le.fit(df[df.columns[8]].unique())\n",
    "df[\"date_label\"] = le.transform(df[df.columns[8]])\n",
    "\n",
    "# 発信機ごとに種類分け\n",
    "df_1 = df[df['UUIDs']  == \"10000000aaaa41441111110000000000\"]\n",
    "df_2 = df[df['UUIDs']  == \"20000000aaaa41441111110000000000\"]\n",
    "df_3 = df[df['UUIDs']  == \"30000000aaaa41441111110000000000\"]\n",
    "df_4 = df[df['UUIDs']  == \"40000000aaaa41441111110000000000\"]"
   ]
  },
  {
   "cell_type": "markdown",
   "metadata": {},
   "source": [
    "#### XGBoostを用いて学習"
   ]
  },
  {
   "cell_type": "code",
   "execution_count": 5,
   "metadata": {},
   "outputs": [
    {
     "name": "stdout",
     "output_type": "stream",
     "text": [
      "精度 : 0.766256157635\n",
      "精度 : 0.760344827586\n",
      "精度 : 0.753880266075\n",
      "精度 : 0.751662971175\n",
      "精度 : 0.761763981276\n"
     ]
    }
   ],
   "source": [
    "import xgboost as xgb\n",
    "from sklearn.metrics import accuracy_score\n",
    "from sklearn.model_selection import KFold\n",
    "\n",
    "# 検定を行うデータを定義\n",
    "X = np.array(df[[\"RSSI\",\"date_label\"]])\n",
    "y = np.array(df[\"locate\"])\n",
    "kf = KFold(n_splits=5,shuffle=True)\n",
    "\n",
    "for train_index, test_index in kf.split(X):\n",
    "    X_train, X_test = X[train_index], X[test_index]\n",
    "    y_train, y_test = y[train_index], y[test_index]\n",
    "    # オブジェクトを作成し学習\n",
    "    mod = xgb.XGBClassifier()\n",
    "    clf = mod.fit(X_train,y_train)\n",
    "    score = clf.score(X_test,y_test)\n",
    "    print(\"精度 : %s\" % score)"
   ]
  },
  {
   "cell_type": "code",
   "execution_count": 6,
   "metadata": {},
   "outputs": [
    {
     "name": "stderr",
     "output_type": "stream",
     "text": [
      "/Users/art/.pyenv/versions/anaconda3-4.4.0/lib/python3.6/site-packages/sklearn/cross_validation.py:44: DeprecationWarning: This module was deprecated in version 0.18 in favor of the model_selection module into which all the refactored classes and functions are moved. Also note that the interface of the new CV iterators are different from that of this module. This module will be removed in 0.20.\n",
      "  \"This module will be removed in 0.20.\", DeprecationWarning)\n"
     ]
    },
    {
     "name": "stdout",
     "output_type": "stream",
     "text": [
      "精度 : 0.758620689655\n"
     ]
    }
   ],
   "source": [
    "# 訓練用データとテストデータを用意\n",
    "import sklearn.cross_validation as crv\n",
    "X_train, X_test, y_train, y_test = crv.train_test_split(df[[\"RSSI\",\"date_label\"]], np.array(df[\"locate\"]), test_size=0.3)\n",
    "\n",
    "# オブジェクトを作成し学習\n",
    "mod = xgb.XGBClassifier()\n",
    "mod.fit(X_train,y_train)\n",
    "\n",
    "# オープンテスト\n",
    "pred = mod.predict(X_test)\n",
    "open_score = accuracy_score(pred,y_test)\n",
    "print(\"精度 : %s\" % open_score)"
   ]
  },
  {
   "cell_type": "markdown",
   "metadata": {},
   "source": [
    "### 反射波の影響を取り除いて学習"
   ]
  },
  {
   "cell_type": "markdown",
   "metadata": {},
   "source": [
    "#### 受信機ごとのRSSI値に対してクラスタリングを行い反射波との分布をみる\n",
    "\n",
    "非階層的クラスタリング  \n",
    "非階層的クラスタリング (例: K-Means 法) では、決められたクラスタ数にしたがって、近い属性のデータをグループ化します。  \n",
    "<img src=\"./RSSI取得実験図/kmeans.png\" alt=\"パターン2\">"
   ]
  },
  {
   "cell_type": "markdown",
   "metadata": {},
   "source": [
    "### 全データに対してクラスタ数を8としてクラスタリング "
   ]
  },
  {
   "cell_type": "code",
   "execution_count": 7,
   "metadata": {
    "collapsed": true,
    "scrolled": false
   },
   "outputs": [],
   "source": [
    "# KMeansライブラリをインポート\n",
    "from sklearn.cluster import KMeans\n",
    "\n",
    "# クラスタ数\n",
    "N_CLUSTERS = 8\n",
    "\n",
    "# RSSIとlocate情報を使用してクラスタリング\n",
    "pred = KMeans(n_clusters=N_CLUSTERS).fit_predict(df[[\"RSSI\",\"locate\"]])"
   ]
  },
  {
   "cell_type": "code",
   "execution_count": 8,
   "metadata": {},
   "outputs": [
    {
     "data": {
      "image/png": "[encoded data removed]",
      "text/plain": [
       "<matplotlib.figure.Figure at 0x11317c2b0>"
      ]
     },
     "metadata": {},
     "output_type": "display_data"
    }
   ],
   "source": [
    "for i in range(N_CLUSTERS):\n",
    "    labels = df[pred == i]\n",
    "    plt.scatter(labels[\"locate\"], labels[\"RSSI\"],s=300)\n",
    "plt.title(\"4地点のクラスタリング結果(クラスタ数8)\")\n",
    "plt.xlabel(\"地点\")\n",
    "plt.ylabel(\"RSSI値\")\n",
    "plt.grid(True)\n",
    "plt.show()"
   ]
  },
  {
   "cell_type": "markdown",
   "metadata": {},
   "source": [
    "##### 各地点ごとにクラスタリングした結果をみる"
   ]
  },
  {
   "cell_type": "code",
   "execution_count": 9,
   "metadata": {},
   "outputs": [
    {
     "name": "stderr",
     "output_type": "stream",
     "text": [
      "/Users/art/.pyenv/versions/anaconda3-4.4.0/lib/python3.6/site-packages/pandas/core/indexing.py:337: SettingWithCopyWarning: \n",
      "A value is trying to be set on a copy of a slice from a DataFrame.\n",
      "Try using .loc[row_indexer,col_indexer] = value instead\n",
      "\n",
      "See the caveats in the documentation: http://pandas.pydata.org/pandas-docs/stable/indexing.html#indexing-view-versus-copy\n",
      "  self.obj[key] = _infer_fill_value(value)\n",
      "/Users/art/.pyenv/versions/anaconda3-4.4.0/lib/python3.6/site-packages/pandas/core/indexing.py:517: SettingWithCopyWarning: \n",
      "A value is trying to be set on a copy of a slice from a DataFrame.\n",
      "Try using .loc[row_indexer,col_indexer] = value instead\n",
      "\n",
      "See the caveats in the documentation: http://pandas.pydata.org/pandas-docs/stable/indexing.html#indexing-view-versus-copy\n",
      "  self.obj[item] = s\n"
     ]
    },
    {
     "data": {
      "image/png": "[encoded data removed]",
      "text/plain": [
       "<matplotlib.figure.Figure at 0x106f874e0>"
      ]
     },
     "metadata": {},
     "output_type": "display_data"
    }
   ],
   "source": [
    "# クラスタ数\n",
    "N_CLUSTERS = 2\n",
    "\n",
    "# RSSIとlocate情報を使用してクラスタリング\n",
    "pred_1 = KMeans(n_clusters=N_CLUSTERS).fit_predict(df_1[[\"RSSI\",\"locate\"]])\n",
    "df_1.loc[:,(\"pred\")] = pred_1\n",
    "for i in range(2):\n",
    "    labels1 = df_1[pred_1 == i]\n",
    "    plt.scatter(labels1[\"locate\"],labels1[\"RSSI\"],s=300)\n",
    "\n",
    "pred_2 = KMeans(n_clusters=N_CLUSTERS).fit_predict(df_2[[\"RSSI\",\"locate\"]])\n",
    "df_2.loc[:,(\"pred\")] = pred_2\n",
    "for i in range(2):\n",
    "    labels2 = df_2[pred_2 == i]\n",
    "    plt.scatter(labels2[\"locate\"],labels2[\"RSSI\"],s=300)\n",
    "    \n",
    "pred_3 = KMeans(n_clusters=N_CLUSTERS).fit_predict(df_3[[\"RSSI\",\"locate\"]])\n",
    "df_3.loc[:,(\"pred\")] = pred_3\n",
    "for i in range(2):\n",
    "    labels3 = df_3[pred_3 == i]\n",
    "    plt.scatter(labels3[\"locate\"],labels3[\"RSSI\"],s=300)\n",
    "\n",
    "pred_4 = KMeans(n_clusters=N_CLUSTERS).fit_predict(df_4[[\"RSSI\",\"locate\"]])\n",
    "df_4.loc[:,(\"pred\")] = pred_4\n",
    "for i in range(2):\n",
    "    labels4 = df_4[pred_4 == i]\n",
    "    plt.scatter(labels4[\"locate\"],labels4[\"RSSI\"],s=300)\n",
    "    \n",
    "# データフレームの結合\n",
    "train = pd.concat([df_1,df_2,df_3,df_4],ignore_index=True)\n",
    "\n",
    "plt.title(\"全地点のクラスタリング結果(クラスタ数2)\")\n",
    "plt.xlabel(\"地点\")\n",
    "plt.ylabel(\"RSSI値\")\n",
    "plt.grid(True)\n",
    "plt.show()"
   ]
  },
  {
   "cell_type": "markdown",
   "metadata": {},
   "source": [
    "##### クラスタリング結果を用いて再度精度を検証する"
   ]
  },
  {
   "cell_type": "code",
   "execution_count": 10,
   "metadata": {},
   "outputs": [
    {
     "name": "stdout",
     "output_type": "stream",
     "text": [
      "精度 : 0.883497536946\n",
      "精度 : 0.876354679803\n",
      "精度 : 0.878295146588\n",
      "精度 : 0.882237004188\n",
      "精度 : 0.879034244888\n"
     ]
    }
   ],
   "source": [
    "from sklearn.model_selection import KFold\n",
    "\n",
    "# 検定を行うデータを定義\n",
    "X = np.array(train[[\"RSSI\",\"date_label\",\"pred\"]])\n",
    "y = np.array(train[\"locate\"])\n",
    "kf = KFold(n_splits=5,shuffle=True)\n",
    "\n",
    "for train_index, test_index in kf.split(X):\n",
    "    X_train, X_test = X[train_index], X[test_index]\n",
    "    y_train, y_test = y[train_index], y[test_index]\n",
    "    # オブジェクトを作成し学習\n",
    "    mod = xgb.XGBClassifier()\n",
    "    clf = mod.fit(X_train,y_train)\n",
    "    score = clf.score(X_test,y_test)\n",
    "    print(\"精度 : %s\" % score)"
   ]
  },
  {
   "cell_type": "code",
   "execution_count": 11,
   "metadata": {},
   "outputs": [
    {
     "name": "stdout",
     "output_type": "stream",
     "text": [
      "精度 : 0.874548440066\n"
     ]
    }
   ],
   "source": [
    "# 学習用にデータを分割\n",
    "X_train, X_test, y_train, y_test = crv.train_test_split(train[[\"RSSI\",\"date_label\",\"pred\"]], np.array(train[\"locate\"]), test_size=0.3)\n",
    "\n",
    "# オブジェクトを作成し学習\n",
    "mod = xgb.XGBClassifier()\n",
    "mod.fit(X_train,y_train)\n",
    "\n",
    "# オープンテスト\n",
    "pred = mod.predict(X_test)\n",
    "open_score = accuracy_score(pred,y_test)\n",
    "print(\"精度 : %s\" % open_score)"
   ]
  },
  {
   "cell_type": "markdown",
   "metadata": {},
   "source": [
    "少し精度があがった"
   ]
  },
  {
   "cell_type": "markdown",
   "metadata": {
    "collapsed": true
   },
   "source": [
    "####  クラスタリングの精度を向上させる"
   ]
  },
  {
   "cell_type": "code",
   "execution_count": 12,
   "metadata": {},
   "outputs": [
    {
     "name": "stdout",
     "output_type": "stream",
     "text": [
      "地点1クラスタ間の重心距離 : 4.95185836106\n",
      "地点2クラスタ間の重心距離 : 6.40956406231\n",
      "地点3クラスタ間の重心距離 : 1.86992276017\n",
      "地点4クラスタ間の重心距離 : 1.50527674975\n"
     ]
    },
    {
     "data": {
      "image/png": "[encoded data removed]",
      "text/plain": [
       "<matplotlib.figure.Figure at 0x11316fda0>"
      ]
     },
     "metadata": {},
     "output_type": "display_data"
    }
   ],
   "source": [
    "from sklearn import metrics\n",
    "from sklearn.metrics import pairwise_distances\n",
    "\n",
    "# RSSIとlocate情報を使用してクラスタリング\n",
    "X = df_1[[\"RSSI\",\"locate\"]]\n",
    "clster = KMeans(n_clusters=N_CLUSTERS).fit(X)\n",
    "center = clster.cluster_centers_\n",
    "distance = np.linalg.norm(center[0]-center[1])\n",
    "# 重点間の距離を計算する\n",
    "print(\"地点1クラスタ間の重心距離 : %s\" % distance)\n",
    "plt.bar(1,distance)\n",
    "\n",
    "# RSSIとlocate情報を使用してクラスタリング\n",
    "X = df_2[[\"RSSI\",\"locate\"]]\n",
    "clster = KMeans(n_clusters=N_CLUSTERS).fit(X)\n",
    "center = clster.cluster_centers_\n",
    "distance = np.linalg.norm(center[0]-center[1])\n",
    "# 重点間の距離を計算する\n",
    "print(\"地点2クラスタ間の重心距離 : %s\" % distance)\n",
    "plt.bar(2,distance)\n",
    "\n",
    "# RSSIとlocate情報を使用してクラスタリング\n",
    "X = df_3[[\"RSSI\",\"locate\"]]\n",
    "clster = KMeans(n_clusters=N_CLUSTERS).fit(X)\n",
    "center = clster.cluster_centers_\n",
    "distance = np.linalg.norm(center[0]-center[1])\n",
    "# 重点間の距離を計算する\n",
    "print(\"地点3クラスタ間の重心距離 : %s\" % distance)\n",
    "plt.bar(3,distance)\n",
    "\n",
    "# RSSIとlocate情報を使用してクラスタリング\n",
    "X = df_4[[\"RSSI\",\"locate\"]]\n",
    "clster = KMeans(n_clusters=N_CLUSTERS).fit(X)\n",
    "center = clster.cluster_centers_\n",
    "distance = np.linalg.norm(center[0]-center[1])\n",
    "# 重点間の距離を計算する\n",
    "print(\"地点4クラスタ間の重心距離 : %s\" % distance)\n",
    "plt.bar(4,distance)\n",
    "\n",
    "plt.title(\"地点ごとのクラスタ間の重心距離\")\n",
    "plt.xlabel(\"地点\")\n",
    "plt.ylabel(\"クラスタ間の重心距離\")\n",
    "plt.grid(True)\n",
    "plt.show()"
   ]
  },
  {
   "cell_type": "markdown",
   "metadata": {},
   "source": [
    "クラスタ間の距離が低いと入射波のみを観測しているケースになると考えられる。  \n",
    "そのため、今回は２点間の重心距離が2以下の場合は入射波のみを計測したと仮定して学習を行う。  "
   ]
  },
  {
   "cell_type": "markdown",
   "metadata": {},
   "source": [
    "####  クラスタ数を考慮して再度クラスタリングを行う"
   ]
  },
  {
   "cell_type": "code",
   "execution_count": 13,
   "metadata": {},
   "outputs": [
    {
     "name": "stderr",
     "output_type": "stream",
     "text": [
      "/Users/art/.pyenv/versions/anaconda3-4.4.0/lib/python3.6/site-packages/pandas/core/indexing.py:517: SettingWithCopyWarning: \n",
      "A value is trying to be set on a copy of a slice from a DataFrame.\n",
      "Try using .loc[row_indexer,col_indexer] = value instead\n",
      "\n",
      "See the caveats in the documentation: http://pandas.pydata.org/pandas-docs/stable/indexing.html#indexing-view-versus-copy\n",
      "  self.obj[item] = s\n"
     ]
    },
    {
     "data": {
      "image/png": "[encoded data removed]",
      "text/plain": [
       "<matplotlib.figure.Figure at 0x113150390>"
      ]
     },
     "metadata": {},
     "output_type": "display_data"
    }
   ],
   "source": [
    "# クラスタ数\n",
    "N_CLUSTERS = 2\n",
    "\n",
    "# 地点1をクラスタリング\n",
    "X = df_1[[\"RSSI\",\"locate\"]]\n",
    "clster = KMeans(n_clusters=N_CLUSTERS).fit(X)\n",
    "center = clster.cluster_centers_\n",
    "# クラスタの重心間の距離を測る\n",
    "distance = np.linalg.norm(center[0]-center[1])\n",
    "\n",
    "if distance >= 2 :\n",
    "    df_1.loc[:,(\"pred\")] = clster.labels_\n",
    "    for i in range(2):\n",
    "        labels1 = df_1[clster.labels_ == i]\n",
    "        plt.scatter(labels1[\"locate\"],labels1[\"RSSI\"],s=300)\n",
    "else : \n",
    "    df_1.loc[:,(\"pred\")] = 0 \n",
    "    plt.scatter(df_1[\"locate\"],df_1[\"RSSI\"],s=300)\n",
    "    \n",
    "    \n",
    "# 地点2をクラスタリング\n",
    "X = df_2[[\"RSSI\",\"locate\"]]\n",
    "clster = KMeans(n_clusters=N_CLUSTERS).fit(X)\n",
    "center = clster.cluster_centers_\n",
    "# クラスタの重心間の距離を測る\n",
    "distance = np.linalg.norm(center[0]-center[1])\n",
    "\n",
    "if distance >= 2 :\n",
    "    df_2.loc[:,(\"pred\")] = clster.labels_\n",
    "    for i in range(2):\n",
    "        labels2 = df_2[clster.labels_ == i]\n",
    "        plt.scatter(labels2[\"locate\"],labels2[\"RSSI\"],s=300)\n",
    "else : \n",
    "    df_2.loc[:,(\"pred\")] = 0 \n",
    "    plt.scatter(df_2[\"locate\"],df_2[\"RSSI\"],s=300)\n",
    "    \n",
    "\n",
    "# 地点3をクラスタリング\n",
    "X = df_3[[\"RSSI\",\"locate\"]]\n",
    "clster = KMeans(n_clusters=N_CLUSTERS).fit(X)\n",
    "center = clster.cluster_centers_\n",
    "# クラスタの重心間の距離を測る\n",
    "distance = np.linalg.norm(center[0]-center[1])\n",
    "\n",
    "if distance >= 2 :\n",
    "    df_3.loc[:,(\"pred\")] = clster.labels_\n",
    "    for i in range(2):\n",
    "        labels3 = df_3[clster.labels_ == i]\n",
    "        plt.scatter(labels3[\"locate\"],labels3[\"RSSI\"],s=300)\n",
    "else : \n",
    "    df_3.loc[:,(\"pred\")] = 0 \n",
    "    plt.scatter(df_3[\"locate\"],df_3[\"RSSI\"],s=300)\n",
    "    \n",
    "\n",
    "# 地点4をクラスタリング\n",
    "X = df_4[[\"RSSI\",\"locate\"]]\n",
    "clster = KMeans(n_clusters=N_CLUSTERS).fit(X)\n",
    "center = clster.cluster_centers_\n",
    "# クラスタの重心間の距離を測る\n",
    "distance = np.linalg.norm(center[0]-center[1])\n",
    "\n",
    "if distance >= 2 :\n",
    "    df_4.loc[:,(\"pred\")] = clster.labels_\n",
    "    for i in range(2):\n",
    "        labels4 = df_4[clster.labels_ == i]\n",
    "        plt.scatter(labels4[\"locate\"],labels4[\"RSSI\"],s=300)\n",
    "else : \n",
    "    df_4.loc[:,(\"pred\")] = 0 \n",
    "    plt.scatter(df_4[\"locate\"],df_4[\"RSSI\"],s=300)\n",
    "    \n",
    "# データフレームの結合\n",
    "train = pd.concat([df_1,df_2,df_3,df_4],ignore_index=True)\n",
    "\n",
    "plt.title(\"全地点のクラスタリング結果(クラスタ数2)\")\n",
    "plt.xlabel(\"地点\")\n",
    "plt.ylabel(\"RSSI値\")\n",
    "plt.grid(True)\n",
    "plt.show()"
   ]
  },
  {
   "cell_type": "code",
   "execution_count": 14,
   "metadata": {},
   "outputs": [
    {
     "data": {
      "text/html": [
       "<div>\n",
       "<style>\n",
       "    .dataframe thead tr:only-child th {\n",
       "        text-align: right;\n",
       "    }\n",
       "\n",
       "    .dataframe thead th {\n",
       "        text-align: left;\n",
       "    }\n",
       "\n",
       "    .dataframe tbody tr th {\n",
       "        vertical-align: top;\n",
       "    }\n",
       "</style>\n",
       "<table border=\"1\" class=\"dataframe\">\n",
       "  <thead>\n",
       "    <tr style=\"text-align: right;\">\n",
       "      <th></th>\n",
       "      <th>UUIDs</th>\n",
       "      <th>Major</th>\n",
       "      <th>Minor</th>\n",
       "      <th>Accuracy</th>\n",
       "      <th>Proximity</th>\n",
       "      <th>TxPower</th>\n",
       "      <th>RSSI</th>\n",
       "      <th>device_name</th>\n",
       "      <th>timestamp</th>\n",
       "      <th>locate</th>\n",
       "      <th>date_label</th>\n",
       "      <th>pred</th>\n",
       "    </tr>\n",
       "  </thead>\n",
       "  <tbody>\n",
       "    <tr>\n",
       "      <th>0</th>\n",
       "      <td>10000000aaaa41441111110000000000</td>\n",
       "      <td>2</td>\n",
       "      <td>38</td>\n",
       "      <td>1.210637</td>\n",
       "      <td>near</td>\n",
       "      <td>-78</td>\n",
       "      <td>-82</td>\n",
       "      <td>rasp2</td>\n",
       "      <td>2017/10/03 15:39:27</td>\n",
       "      <td>1</td>\n",
       "      <td>0</td>\n",
       "      <td>1</td>\n",
       "    </tr>\n",
       "    <tr>\n",
       "      <th>1</th>\n",
       "      <td>10000000aaaa41441111110000000000</td>\n",
       "      <td>2</td>\n",
       "      <td>38</td>\n",
       "      <td>1.465642</td>\n",
       "      <td>near</td>\n",
       "      <td>-78</td>\n",
       "      <td>-86</td>\n",
       "      <td>rasp2</td>\n",
       "      <td>2017/10/03 15:39:27</td>\n",
       "      <td>1</td>\n",
       "      <td>0</td>\n",
       "      <td>0</td>\n",
       "    </tr>\n",
       "    <tr>\n",
       "      <th>2</th>\n",
       "      <td>10000000aaaa41441111110000000000</td>\n",
       "      <td>2</td>\n",
       "      <td>38</td>\n",
       "      <td>1.210637</td>\n",
       "      <td>near</td>\n",
       "      <td>-78</td>\n",
       "      <td>-82</td>\n",
       "      <td>rasp2</td>\n",
       "      <td>2017/10/03 15:39:27</td>\n",
       "      <td>1</td>\n",
       "      <td>0</td>\n",
       "      <td>1</td>\n",
       "    </tr>\n",
       "    <tr>\n",
       "      <th>3</th>\n",
       "      <td>10000000aaaa41441111110000000000</td>\n",
       "      <td>2</td>\n",
       "      <td>38</td>\n",
       "      <td>1.210637</td>\n",
       "      <td>near</td>\n",
       "      <td>-78</td>\n",
       "      <td>-82</td>\n",
       "      <td>rasp2</td>\n",
       "      <td>2017/10/03 15:39:28</td>\n",
       "      <td>1</td>\n",
       "      <td>1</td>\n",
       "      <td>1</td>\n",
       "    </tr>\n",
       "    <tr>\n",
       "      <th>4</th>\n",
       "      <td>10000000aaaa41441111110000000000</td>\n",
       "      <td>2</td>\n",
       "      <td>38</td>\n",
       "      <td>1.210637</td>\n",
       "      <td>near</td>\n",
       "      <td>-78</td>\n",
       "      <td>-82</td>\n",
       "      <td>rasp2</td>\n",
       "      <td>2017/10/03 15:39:28</td>\n",
       "      <td>1</td>\n",
       "      <td>1</td>\n",
       "      <td>1</td>\n",
       "    </tr>\n",
       "  </tbody>\n",
       "</table>\n",
       "</div>"
      ],
      "text/plain": [
       "                              UUIDs  Major  Minor  Accuracy Proximity  \\\n",
       "0  10000000aaaa41441111110000000000      2     38  1.210637      near   \n",
       "1  10000000aaaa41441111110000000000      2     38  1.465642      near   \n",
       "2  10000000aaaa41441111110000000000      2     38  1.210637      near   \n",
       "3  10000000aaaa41441111110000000000      2     38  1.210637      near   \n",
       "4  10000000aaaa41441111110000000000      2     38  1.210637      near   \n",
       "\n",
       "   TxPower  RSSI device_name            timestamp  locate  date_label  pred  \n",
       "0      -78   -82       rasp2  2017/10/03 15:39:27       1           0     1  \n",
       "1      -78   -86       rasp2  2017/10/03 15:39:27       1           0     0  \n",
       "2      -78   -82       rasp2  2017/10/03 15:39:27       1           0     1  \n",
       "3      -78   -82       rasp2  2017/10/03 15:39:28       1           1     1  \n",
       "4      -78   -82       rasp2  2017/10/03 15:39:28       1           1     1  "
      ]
     },
     "execution_count": 14,
     "metadata": {},
     "output_type": "execute_result"
    }
   ],
   "source": [
    "# データフレームを確認\n",
    "train.head()"
   ]
  },
  {
   "cell_type": "markdown",
   "metadata": {},
   "source": [
    "####  再度予測を行い精度をみる"
   ]
  },
  {
   "cell_type": "code",
   "execution_count": 16,
   "metadata": {},
   "outputs": [
    {
     "name": "stdout",
     "output_type": "stream",
     "text": [
      "精度 : 0.767733990148\n",
      "精度 : 0.789901477833\n",
      "精度 : 0.763242177876\n",
      "精度 : 0.769154964277\n",
      "精度 : 0.767923133777\n"
     ]
    }
   ],
   "source": [
    "from sklearn.model_selection import KFold\n",
    "\n",
    "# 検定を行うデータを定義\n",
    "X = np.array(train[[\"RSSI\",\"date_label\",\"pred\"]])\n",
    "y = np.array(train[\"locate\"])\n",
    "kf = KFold(n_splits=5,shuffle=True)\n",
    "\n",
    "for train_index, test_index in kf.split(X):\n",
    "    X_train, X_test = X[train_index], X[test_index]\n",
    "    y_train, y_test = y[train_index], y[test_index]\n",
    "    # オブジェクトを作成し学習\n",
    "    mod = xgb.XGBClassifier()\n",
    "    clf = mod.fit(X_train,y_train)\n",
    "    score = clf.score(X_test,y_test)\n",
    "    print(\"精度 : %s\" % score)"
   ]
  },
  {
   "cell_type": "markdown",
   "metadata": {},
   "source": [
    "精度が落ちた"
   ]
  }
 ],
 "metadata": {
  "kernelspec": {
   "display_name": "Python 3",
   "language": "python",
   "name": "python3"
  },
  "language_info": {
   "codemirror_mode": {
    "name": "ipython",
    "version": 3
   },
   "file_extension": ".py",
   "mimetype": "text/x-python",
   "name": "python",
   "nbconvert_exporter": "python",
   "pygments_lexer": "ipython3",
   "version": "3.6.1"
  }
 },
 "nbformat": 4,
 "nbformat_minor": 1
}
