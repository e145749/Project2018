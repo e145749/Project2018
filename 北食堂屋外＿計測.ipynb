{
 "cells": [
  {
   "cell_type": "code",
   "execution_count": 1,
   "metadata": {
    "collapsed": true
   },
   "outputs": [],
   "source": [
    "import pandas as pd\n",
    "import numpy as np\n",
    "import seaborn as sns\n",
    "#import matplotlib as plt\n",
    "import matplotlib.pyplot as plt\n",
    "import sklearn.preprocessing as sp\n",
    "%matplotlib inline\n",
    "sns.set_style('whitegrid')\n",
    "sns.set_context(\"poster\")\n",
    "sns.set_context(\"talk\", 1.0, {\"lines.linewidth\": 3})"
   ]
  },
  {
   "cell_type": "code",
   "execution_count": 3,
   "metadata": {},
   "outputs": [],
   "source": [
    "#パターン17のデータの取得\n",
    "df19_1 = pd.read_csv(\"./取得データセット/受信機1/nkmr1-dataset19.csv\")\n",
    "df19_2 = pd.read_csv(\"./取得データセット/受信機2/nkmr2-dataset19.csv\")\n",
    "df19_3 = pd.read_csv(\"./取得データセット/受信機3/nkmr3-dataset19.csv\")\n",
    "df19_4 = pd.read_csv(\"./取得データセット/受信機4/nkmr4-dataset19.csv\")\n",
    "\n",
    "#それぞれのカラムの指定\n",
    "df19_1.columns = [\"UUIDs\",\"Major\",\"Minor\",\"Accuracy\",\"Proximity\",\"TxPower\",\"RSSI\",\"device_name\",\"timestamp\",\"x\",\"y\"]\n",
    "df19_2.columns = [\"UUIDs\",\"Major\",\"Minor\",\"Accuracy\",\"Proximity\",\"TxPower\",\"RSSI\",\"device_name\",\"timestamp\",\"x\",\"y\"]\n",
    "df19_3.columns = [\"UUIDs\",\"Major\",\"Minor\",\"Accuracy\",\"Proximity\",\"TxPower\",\"RSSI\",\"device_name\",\"timestamp\",\"x\",\"y\"]\n",
    "df19_4.columns = [\"UUIDs\",\"Major\",\"Minor\",\"Accuracy\",\"Proximity\",\"TxPower\",\"RSSI\",\"device_name\",\"timestamp\",\"x\",\"y\"]\n",
    "\n",
    "\n",
    "df19 = df19_1.append(df19_2).append(df19_3).append(df19_4)\n",
    "\n",
    "#同期ビーコンのid\n",
    "set_uuid = \"1000000007ae1001b000001c4d8dffff\"\n",
    "\n",
    "#送信機のid\n",
    "id1 = \"10000000aaaa41441111110000000000\"\n",
    "id2 = \"20000000aaaa41441111110000000000\"\n",
    "id3 = \"30000000aaaa41441111110000000000\"\n",
    "id4 = \"40000000aaaa41441111110000000000\"\n",
    "id5 = \"50000000aaaa41441111110000000000\"\n",
    "id6 = \"60000000aaaa41441111110000000000\"\n",
    "id7 = \"70000000aaaa41441111110000000000\"\n",
    "id8 = \"80000000aaaa41441111110000000000\" \n",
    "id9 = \"90000000aaaa41441111110000000000\"\n",
    "\n",
    "#locateを作成\n",
    "df19[\"locate\"] = 0\n",
    "df19.locate = df19.locate.where(df19.UUIDs != id1,1)\n",
    "df19.locate = df19.locate.where(df19.UUIDs != id2,2)\n",
    "df19.locate = df19.locate.where(df19.UUIDs != id3,3)\n",
    "df19.locate = df19.locate.where(df19.UUIDs != id4,4)\n",
    "df19.locate = df19.locate.where(df19.UUIDs != id5,5)\n",
    "df19.locate = df19.locate.where(df19.UUIDs != id6,6)\n",
    "df19.locate = df19.locate.where(df19.UUIDs != id7,7)\n",
    "df19.locate = df19.locate.where(df19.UUIDs != id8,8)\n",
    "#df19.locate = df19.locate.where(df19.UUIDs != id9,9)\n",
    "df19.locate = df19.locate.astype(int)\n",
    "\n",
    "#deviceを作成\n",
    "df19[\"device\"] = 0\n",
    "df19.device = df19.device.where(df19.device_name != \"rasp1\",1)\n",
    "df19.device = df19.device.where(df19.device_name != \"nkmr-2\",2)\n",
    "df19.device = df19.device.where(df19.device_name != \"rasp3\",3)\n",
    "df19.device = df19.device.where(df19.device_name != \"nkmr-4\",3)\n",
    "\n",
    "#座標を与える\n",
    "#df19[\"x\"] = 0\n",
    "#df19[\"y\"] = 0\n",
    "#df19.x,df17.y = df17.x.where(df17.UUIDs != id1,0),df17.y.where(df17.UUIDs != id1,0)\n",
    "#df19.x,df17.y = df17.x.where(df17.UUIDs != id2,0),df17.y.where(df17.UUIDs != id2,100)\n",
    "#df19.x,df17.y = df17.x.where(df17.UUIDs != id3,0),df17.y.where(df17.UUIDs != id3,200)\n",
    "#df19.x,df17.y = df17.x.where(df17.UUIDs != id4,100),df17.y.where(df17.UUIDs != id4,0)\n",
    "#df19.x,df17.y = df17.x.where(df17.UUIDs != id5,100),df17.y.where(df17.UUIDs != id5,100)\n",
    "#df19.x,df17.y = df17.x.where(df17.UUIDs != id6,100),df17.y.where(df17.UUIDs != id6,200)\n",
    "#df19.x,df17.y = df17.x.where(df17.UUIDs != id7,200),df17.y.where(df17.UUIDs != id7,0)\n",
    "#df19.x,df17.y = df17.x.where(df17.UUIDs != id8,200),df17.y.where(df17.UUIDs != id8,100)\n",
    "#df19.x,df17.y = df17.x.where(df17.UUIDs != id9,200),df17.y.where(df17.UUIDs != id9,200)\n",
    "\n",
    "#発信機ごとに分ける\n",
    "df19_1 = df19[(df19.UUIDs == id1) | (df19.UUIDs == set_uuid)]\n",
    "df19_2 = df19[(df19.UUIDs == id2) | (df19.UUIDs == set_uuid)]\n",
    "df19_3 = df19[(df19.UUIDs == id3) | (df19.UUIDs == set_uuid)]\n",
    "df19_4 = df19[(df19.UUIDs == id4) | (df19.UUIDs == set_uuid)]\n",
    "df19_5 = df19[(df19.UUIDs == id5) | (df19.UUIDs == set_uuid)]\n",
    "df19_6 = df19[(df19.UUIDs == id6) | (df19.UUIDs == set_uuid)]\n",
    "df19_7 = df19[(df19.UUIDs == id7) | (df19.UUIDs == set_uuid)]\n",
    "df19_8 = df19[(df19.UUIDs == id8) | (df19.UUIDs == set_uuid)]\n",
    "#df19_9 = df19[(df19.UUIDs == id9) | (df19.UUIDs == set_uuid)]\n",
    "\n",
    "df_list = [df19_1,df19_2,df19_3,df19_4,df19_5,df19_6,df19_7,df19_8]"
   ]
  },
  {
   "cell_type": "code",
   "execution_count": 4,
   "metadata": {
    "collapsed": true
   },
   "outputs": [],
   "source": [
    "#　オブジェクト型の目的変数を数値情報に変換\n",
    "import sklearn.preprocessing as sp\n",
    "\n",
    "# 前処理用のインスタンスを宣言\n",
    "le = sp.LabelEncoder()\n",
    "\n",
    "def set_time(data,set_uuid):\n",
    "    \"\"\"\n",
    "    時刻合わせを行う\n",
    "    第一引数はdataframe\n",
    "    第２引数は時刻合わせを行うUUID\n",
    "    \"\"\"\n",
    "    # 時刻合わせ用のビーコンを1秒間隔に設定\n",
    "    set_time_df = data[data.UUIDs == set_uuid].drop_duplicates(['Minor'],keep = \"first\")\n",
    "    # 時刻合わせ用ビーコン以外を定義\n",
    "    df = data[data.UUIDs != set_uuid]\n",
    "    # データを結合してインデックスでソート\n",
    "    df = df.append(set_time_df).sort_index(ascending=True)\n",
    "    # 時刻合わせ用ビーコンを取得した行にtimeカラムを設定\n",
    "    df[\"time\"] = df[\"Minor\"].where(df[\"UUIDs\"] == set_uuid)\n",
    "    # 時刻合わせを行い欠損値がある部分は削除\n",
    "    df = df.fillna(method=\"ffill\").dropna()\n",
    "    # int型に変換\n",
    "    df[\"time\"] = df[\"time\"].astype(int)\n",
    "    # 時刻合わせ用のビーコンデータ以外\n",
    "    df = df[df[\"UUIDs\"] != set_uuid]\n",
    "    \n",
    "    return df\n",
    "\n",
    "# 前処理を各データフレームに行う\n",
    "for (i,df) in enumerate(df_list):\n",
    "    df_list[i] = set_time(df,set_uuid)\n",
    "    # device_nameを変換\n",
    "    #df_list[i][\"device\"] = le.fit_transform(df_list[i][df_list[i].columns[7]]) + 1"
   ]
  },
  {
   "cell_type": "code",
   "execution_count": 5,
   "metadata": {
    "collapsed": true
   },
   "outputs": [],
   "source": [
    "# KMeansライブラリをインポート\n",
    "from sklearn.cluster import KMeans"
   ]
  },
  {
   "cell_type": "code",
   "execution_count": 6,
   "metadata": {
    "collapsed": true
   },
   "outputs": [],
   "source": [
    "def make_cluster(df_list,colum,*,N_CLUSTERS=2):\n",
    "    \"\"\"\n",
    "          反射波と入射波を判別するクラスタを作成し描写を行う\n",
    "          第1引数(地点毎のデータフレームが入ったリスト)\n",
    "          第２引数(クラスタリングを行いたいカラムのリスト)\n",
    "          第３引数(クラスタ数)\n",
    "          データフレーム型でクラスタリング結果を返す\n",
    "    \"\"\"\n",
    "\n",
    "    # 空のデータフレームを用意\n",
    "    df_cluster = pd.DataFrame()\n",
    "    concat_list = []\n",
    "    #座標ごとに\n",
    "    for df in df_list: \n",
    "        #受信機ごとに\n",
    "        for dev in df.device_name.unique():\n",
    "            #受信機ごとに分けたdataframe\n",
    "            df_dev = df[df.device_name == dev].copy()\n",
    "            # 指定されたカラムを利用してクラスタリング\n",
    "            pred = KMeans(n_clusters=N_CLUSTERS).fit_predict(np.array(df_dev[colum]))\n",
    "            # clusterカラムを作成し予測結果を代入\n",
    "            df_dev.loc[:,(\"cluster\")] = pred\n",
    "            # RSSI値の平均値を比較して入射波と反射波の判定を行う\n",
    "            if df_dev[df_dev[\"cluster\"] == 0][\"RSSI\"].mean() > df_dev[df_dev[\"cluster\"] == 1][\"RSSI\"].mean():\n",
    "                pass\n",
    "            else:\n",
    "                df_dev.loc[df_dev[\"cluster\"] == 0,\"cluster\"] = 3\n",
    "                df_dev.loc[df_dev[\"cluster\"] == 1,\"cluster\"] = 0\n",
    "                df_dev.loc[df_dev[\"cluster\"] == 3,\"cluster\"] = 1\n",
    "            # 予測結果を格納\n",
    "            df_cluster = pd.concat([df_cluster,df_dev],ignore_index=True)\n",
    "        concat_list.append(df_cluster)\n",
    "        # 空のデータフレームを用意\n",
    "        df_cluster = pd.DataFrame()\n",
    "\n",
    "    return concat_list"
   ]
  },
  {
   "cell_type": "code",
   "execution_count": 7,
   "metadata": {
    "collapsed": true
   },
   "outputs": [],
   "source": [
    "df_list = make_cluster(df_list,[\"RSSI\",\"locate\"]) "
   ]
  },
  {
   "cell_type": "code",
   "execution_count": null,
   "metadata": {
    "collapsed": true
   },
   "outputs": [],
   "source": []
  }
 ],
 "metadata": {
  "kernelspec": {
   "display_name": "Python 3",
   "language": "python",
   "name": "python3"
  },
  "language_info": {
   "codemirror_mode": {
    "name": "ipython",
    "version": 3
   },
   "file_extension": ".py",
   "mimetype": "text/x-python",
   "name": "python",
   "nbconvert_exporter": "python",
   "pygments_lexer": "ipython3",
   "version": "3.6.1"
  }
 },
 "nbformat": 4,
 "nbformat_minor": 2
}
