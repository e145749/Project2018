{
 "cells": [
  {
   "cell_type": "markdown",
   "metadata": {
    "collapsed": false
   },
   "source": [
    "### 各ライブラリを宣言"
   ]
  },
  {
   "cell_type": "code",
   "execution_count": 2,
   "metadata": {
    "collapsed": true
   },
   "outputs": [],
   "source": [
    "import pandas as pd\n",
    "import numpy as np\n",
    "import seaborn as sns\n",
    "import matplotlib.pyplot as plt\n",
    "%matplotlib inline\n",
    "\n",
    "plt.rcParams['font.family'] = 'IPAexGothic' #全体のフォントを設定\n",
    "plt.rcParams[\"figure.figsize\"] = [20, 12] # グラフのサイズを指定\n",
    "plt.rcParams['font.size'] = 20 #フォントサイズを設定 default : 12\n",
    "plt.rcParams['xtick.labelsize'] = 15 # 横軸のフォントサイズ\n",
    "plt.rcParams['ytick.labelsize'] = 15 # 縦軸のフォントサイズ"
   ]
  },
  {
   "cell_type": "markdown",
   "metadata": {},
   "source": [
    "### データの取得"
   ]
  },
  {
   "cell_type": "code",
   "execution_count": 11,
   "metadata": {
    "collapsed": false
   },
   "outputs": [],
   "source": [
    "# カラム名を宣言\n",
    "colum_name = [\"UUIDs\",\"Major\",\"Minor\",\"Accuracy\",\"Proximity\",\"TxPower\",\"RSSI\",\"device_name\",\"timestamp\",\"xlabel\"]\n",
    "\n",
    "# ビーコンのキャリブレーションを行ったデータを取得\n",
    "ca_1 = pd.read_csv(\"./取得データセット/受信機2/cali2/cali1_2.csv\")\n",
    "ca_2 = pd.read_csv(\"./取得データセット/受信機2/cali2/cali2_2.csv\")\n",
    "ca_3 = pd.read_csv(\"./取得データセット/受信機2/cali2/cali3_2.csv\")\n",
    "ca_4 = pd.read_csv(\"./取得データセット/受信機2/cali2/cali4_2.csv\")\n",
    "ca_5 = pd.read_csv(\"./取得データセット/受信機2/cali2/cali5_2.csv\")\n",
    "ca_6 = pd.read_csv(\"./取得データセット/受信機2/cali2/cali6_2.csv\")\n",
    "ca_7 = pd.read_csv(\"./取得データセット/受信機2/cali2/cali7_2.csv\")\n",
    "ca_8 = pd.read_csv(\"./取得データセット/受信機2/cali2/cali8_2.csv\")\n",
    "\n",
    "# リストを用意してキャリブレーションデータを格納しカラム付\n",
    "ca_list = [ca_1,ca_2,ca_3,ca_4,ca_5,ca_6,ca_7,ca_8]\n",
    "\n",
    "for df in ca_list:\n",
    "    df.columns = colum_name\n"
   ]
  },
  {
   "cell_type": "code",
   "execution_count": null,
   "metadata": {
    "collapsed": true
   },
   "outputs": [],
   "source": []
  }
 ],
 "metadata": {
  "kernelspec": {
   "display_name": "Python 3",
   "language": "python",
   "name": "python3"
  },
  "language_info": {
   "codemirror_mode": {
    "name": "ipython",
    "version": 3
   },
   "file_extension": ".py",
   "mimetype": "text/x-python",
   "name": "python",
   "nbconvert_exporter": "python",
   "pygments_lexer": "ipython3",
   "version": "3.5.4"
  }
 },
 "nbformat": 4,
 "nbformat_minor": 0
}
